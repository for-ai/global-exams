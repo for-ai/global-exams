{
 "cells": [
  {
   "cell_type": "code",
   "execution_count": 1,
   "id": "b2729c79-56a6-41da-a49f-c1cdf92532d8",
   "metadata": {},
   "outputs": [
    {
     "data": {
      "text/plain": [
       "'/Users/roshansk/Documents/GitHub/Global_Exams'"
      ]
     },
     "execution_count": 1,
     "metadata": {},
     "output_type": "execute_result"
    }
   ],
   "source": [
    "import re\n",
    "import base64\n",
    "from openai import OpenAI\n",
    "from anthropic import Anthropic\n",
    "from pdf2image import convert_from_path\n",
    "\n",
    "from pathlib import Path\n",
    "from tqdm import tqdm\n",
    "import pandas as pd\n",
    "import json\n",
    "\n",
    "import os\n",
    "os.getcwd()"
   ]
  },
  {
   "cell_type": "code",
   "execution_count": 2,
   "id": "320b7be4-6a54-4169-8666-0a2c56359109",
   "metadata": {},
   "outputs": [],
   "source": [
    "def encode_image(image_path):\n",
    "    \"\"\"\n",
    "    Function to encode the image\n",
    "    \"\"\"\n",
    "    with open(image_path, \"rb\") as image_file:\n",
    "        return base64.b64encode(image_file.read()).decode(\"utf-8\")\n",
    "\n",
    "\n",
    "def get_message_list(base64_string, prompt):\n",
    "\n",
    "    message_list = [\n",
    "    {\n",
    "        \"role\": 'user',\n",
    "        \"content\": [\n",
    "            {\"type\": \"image\", \"source\": {\"type\": \"base64\", \"media_type\": \"image/jpeg\", \"data\": base64_string}},\n",
    "            {\"type\": \"text\", \"text\": prompt}\n",
    "        ]\n",
    "    }\n",
    "    ]\n",
    "\n",
    "    return message_list"
   ]
  },
  {
   "cell_type": "code",
   "execution_count": 3,
   "id": "46cdee87-a3de-4796-8e26-a2a1a2c343ae",
   "metadata": {},
   "outputs": [],
   "source": [
    "from anthropic import Anthropic\n",
    "\n",
    "client = Anthropic()\n",
    "\n",
    "# MODEL_NAME = \"claude-3-opus-20240229\"\n",
    "\n",
    "MODEL_NAME = \"claude-3-5-sonnet-20240620\"\n",
    "\n",
    "\n"
   ]
  },
  {
   "cell_type": "code",
   "execution_count": 49,
   "id": "438dd01b-1448-4bb0-94e6-ed1a3f73b9d8",
   "metadata": {},
   "outputs": [],
   "source": [
    "\n",
    "\n",
    "pdf_file = '/Users/roshansk/Documents/GitHub/Global_Exams/data/2020/NEET_2020_Marathi_G3.pdf'\n",
    "answer_file = '/Users/roshansk/Documents/GitHub/Global_Exams/data/2020/NEET_2020_G3_Answer_Key.json'\n",
    "image_folder = '/Users/roshansk/Documents/GitHub/Global_Exams/images/NEET_2020_Marathi_G3'\n",
    "\n",
    "\n",
    "lang_code = 'mr'\n",
    "country = 'India'\n",
    "file_name = 'Paper_20201106084438.pdf'\n",
    "source = 'https://www.nta.ac.in/Download/ExamPaper/Paper_20201106084438.pdf'\n",
    "license = 'open'\n",
    "level = 'University'\n",
    "\n",
    "output_file_name = 'NEET_2020_Marathi_processed'\n",
    "\n",
    "pages_to_include=[2,21]"
   ]
  },
  {
   "cell_type": "markdown",
   "id": "3b26bc26-49bf-4687-a5a9-03a6832ecc18",
   "metadata": {},
   "source": [
    "## Prompt (User input required. Change the prompt value to account for language)"
   ]
  },
  {
   "cell_type": "code",
   "execution_count": 11,
   "id": "88ec45bd-1972-4d96-bb5d-a67b3db11981",
   "metadata": {},
   "outputs": [],
   "source": [
    "# prompt = \"\"\"Extract the multiple choice questions along with the options present in the image. The text is mostly in the language of {lang}.\n",
    "# Return the extracted the questions as a list of json values, with each json value corresponding to a single question. \n",
    "# The json value should have the following keys : \n",
    "# - number : The number of the question\n",
    "# - question : The actual text of the question\n",
    "# - options : A list containing all 4 options for the question\n",
    "# - image : output True if there is an image associated with the either the question or answer and the student is supposed to use an image to answer the question. Output False, otherwise. Ensure that True and False have their first letters capitalized.\n",
    "\n",
    "# Output the list alone and no other supporting text in your response. Ensure that the output can be converted into a python directly using eval(response.text)\n",
    "# The questions are present in 2 columns. Make sure to extract questions from both columns and not just one\n",
    "\n",
    "# \"\"\"\n",
    "\n",
    "# prompt_hindi = \"\"\"You are given a pdf containing Hindi and English questions. Extract the Hindi multiple choice questions along with the options present in the image.\n",
    "# Return the extracted the questions as a list of json values, with each json value corresponding to a single question. \n",
    "# The json value should have the following keys : \n",
    "# - number : The number of the question\n",
    "# - question : The actual text of the question\n",
    "# - options : A list containing all 4 options for the question\n",
    "# - image : output True if there is an image associated with the either the question or answer and the student is supposed to use an image to answer the question. Output False, otherwise. Ensure that True and False have their first letters capitalized.\n",
    "\n",
    "# Output the list alone and no other supporting text in your response. Ensure that the output can be converted into a python directly using eval(response.text)\n",
    "# The questions are present in two columns with Hindi questions on the left column and English questions on the right column. Extract only the Hindi questions from the left column.\n",
    "# \"\"\"\n",
    "\n",
    "\n",
    "# prompt = \"\"\"You are given a pdf containing Gujarati and English questions. Extract the Gujarati multiple choice questions along with the options present in the image.\n",
    "# Return the extracted the questions as a list of json values, with each json value corresponding to a single question. \n",
    "# The json value should have the following keys : \n",
    "# - number : The number of the question\n",
    "# - question : The actual text of the question\n",
    "# - options : A list containing all 4 options for the question\n",
    "# - image : output True if there is an image associated with the either the question or answer and the student is supposed to use an image to answer the question. Output False, otherwise. Ensure that True and False have their first letters capitalized.\n",
    "\n",
    "# Output the list alone and no other supporting text in your response. Ensure that the output can be converted into a python dict directly using eval(response.text)\n",
    "# The questions are present in two columns with Gujarati questions on the right side and English questions on the left. Extract only the Gujarati questions from the right column.\n",
    "# \"\"\"\n",
    "\n",
    "\n",
    "prompt = \"\"\"Extract the multiple choice questions along with the options present in the image. The text is mostly in the language of Marathi.\n",
    "Return the extracted the questions as a list of json values, with each json value corresponding to a single question. \n",
    "The json value should have the following keys : \n",
    "- number : The number of the question\n",
    "- question : The actual text of the question\n",
    "- options : A list containing all 4 options for the question\n",
    "- image : output True if there is an image or table associated with the either the question or answer and the student is supposed to use an image/table to answer the question. Output False, otherwise. Ensure that True and False have their first letters capitalized.\n",
    "\n",
    "Output the list alone and no other supporting text in your response. Ensure that the output can be converted into a python dict directly using eval(response.text)\n",
    "The questions are present in 2 columns. Make sure to extract questions from both columns and not just one\n",
    "\n",
    "\"\"\""
   ]
  },
  {
   "cell_type": "markdown",
   "id": "0333fbaf-b80a-48e3-9826-35ee6fb1b9c7",
   "metadata": {},
   "source": [
    "## Creating Image Files"
   ]
  },
  {
   "cell_type": "code",
   "execution_count": 50,
   "id": "9a59c2b0-0b87-4e37-8ec5-3b89f9e3ae44",
   "metadata": {},
   "outputs": [],
   "source": [
    "if not os.path.exists(image_folder):\n",
    "    os.makedirs(image_folder)\n",
    "\n",
    "pages = convert_from_path(pdf_file)\n",
    "\n",
    "start_page, end_page = pages_to_include \n",
    "count = 0\n",
    "for i in range(start_page-1,  end_page):\n",
    "    filename = \"page_\"+str(i)+'.jpg'\n",
    "    pages[i].save(Path(image_folder) / filename)\n",
    "    count += 1\n",
    "    "
   ]
  },
  {
   "cell_type": "code",
   "execution_count": 51,
   "id": "7c323568-4ab7-4f89-968a-fdb3f1a599ae",
   "metadata": {},
   "outputs": [
    {
     "name": "stdout",
     "output_type": "stream",
     "text": [
      "20 images created\n"
     ]
    }
   ],
   "source": [
    "print(f\"{count} images created\")"
   ]
  },
  {
   "cell_type": "markdown",
   "id": "dcbe3632-fee8-473c-a206-c417f638484b",
   "metadata": {},
   "source": [
    "## Extracting questions from Claude"
   ]
  },
  {
   "cell_type": "code",
   "execution_count": 52,
   "id": "1b4d55cc-c997-4614-8405-9b48154f8c80",
   "metadata": {
    "scrolled": true
   },
   "outputs": [
    {
     "name": "stderr",
     "output_type": "stream",
     "text": [
      "  5%|██▏                                         | 1/20 [00:31<09:49, 31.00s/it]"
     ]
    },
    {
     "name": "stdout",
     "output_type": "stream",
     "text": [
      "page_2.jpg added to json\n"
     ]
    },
    {
     "name": "stderr",
     "output_type": "stream",
     "text": [
      " 10%|████▍                                       | 2/20 [00:57<08:35, 28.63s/it]"
     ]
    },
    {
     "name": "stdout",
     "output_type": "stream",
     "text": [
      "page_3.jpg added to json\n"
     ]
    },
    {
     "name": "stderr",
     "output_type": "stream",
     "text": [
      " 15%|██████▌                                     | 3/20 [01:24<07:50, 27.68s/it]"
     ]
    },
    {
     "name": "stdout",
     "output_type": "stream",
     "text": [
      "page_1.jpg added to json\n"
     ]
    },
    {
     "name": "stderr",
     "output_type": "stream",
     "text": [
      " 20%|████████▊                                   | 4/20 [01:55<07:41, 28.83s/it]"
     ]
    },
    {
     "name": "stdout",
     "output_type": "stream",
     "text": [
      "page_4.jpg added to json\n"
     ]
    },
    {
     "name": "stderr",
     "output_type": "stream",
     "text": [
      " 25%|███████████                                 | 5/20 [02:43<08:56, 35.74s/it]"
     ]
    },
    {
     "name": "stdout",
     "output_type": "stream",
     "text": [
      "page_5.jpg added to text\n"
     ]
    },
    {
     "name": "stderr",
     "output_type": "stream",
     "text": [
      " 30%|█████████████▏                              | 6/20 [03:04<07:11, 30.80s/it]"
     ]
    },
    {
     "name": "stdout",
     "output_type": "stream",
     "text": [
      "page_7.jpg added to json\n"
     ]
    },
    {
     "name": "stderr",
     "output_type": "stream",
     "text": [
      " 35%|███████████████▍                            | 7/20 [03:30<06:21, 29.33s/it]"
     ]
    },
    {
     "name": "stdout",
     "output_type": "stream",
     "text": [
      "page_6.jpg added to json\n"
     ]
    },
    {
     "name": "stderr",
     "output_type": "stream",
     "text": [
      " 40%|█████████████████▌                          | 8/20 [03:56<05:38, 28.18s/it]"
     ]
    },
    {
     "name": "stdout",
     "output_type": "stream",
     "text": [
      "page_19.jpg added to json\n"
     ]
    },
    {
     "name": "stderr",
     "output_type": "stream",
     "text": [
      " 45%|███████████████████▊                        | 9/20 [04:21<04:59, 27.25s/it]"
     ]
    },
    {
     "name": "stdout",
     "output_type": "stream",
     "text": [
      "page_18.jpg added to json\n"
     ]
    },
    {
     "name": "stderr",
     "output_type": "stream",
     "text": [
      " 50%|█████████████████████▌                     | 10/20 [04:29<03:32, 21.27s/it]"
     ]
    },
    {
     "name": "stdout",
     "output_type": "stream",
     "text": [
      "page_20.jpg added to json\n"
     ]
    },
    {
     "name": "stderr",
     "output_type": "stream",
     "text": [
      " 55%|███████████████████████▋                   | 11/20 [04:50<03:11, 21.24s/it]"
     ]
    },
    {
     "name": "stdout",
     "output_type": "stream",
     "text": [
      "page_10.jpg added to json\n"
     ]
    },
    {
     "name": "stderr",
     "output_type": "stream",
     "text": [
      " 60%|█████████████████████████▊                 | 12/20 [09:07<12:23, 92.89s/it]"
     ]
    },
    {
     "name": "stdout",
     "output_type": "stream",
     "text": [
      "page_11.jpg added to json\n"
     ]
    },
    {
     "name": "stderr",
     "output_type": "stream",
     "text": [
      " 65%|███████████████████████████▉               | 13/20 [09:37<08:37, 73.95s/it]"
     ]
    },
    {
     "name": "stdout",
     "output_type": "stream",
     "text": [
      "page_13.jpg added to json\n"
     ]
    },
    {
     "name": "stderr",
     "output_type": "stream",
     "text": [
      " 70%|██████████████████████████████             | 14/20 [09:59<05:48, 58.14s/it]"
     ]
    },
    {
     "name": "stdout",
     "output_type": "stream",
     "text": [
      "page_12.jpg added to json\n"
     ]
    },
    {
     "name": "stderr",
     "output_type": "stream",
     "text": [
      " 75%|████████████████████████████████▎          | 15/20 [10:30<04:09, 49.99s/it]"
     ]
    },
    {
     "name": "stdout",
     "output_type": "stream",
     "text": [
      "page_16.jpg added to json\n"
     ]
    },
    {
     "name": "stderr",
     "output_type": "stream",
     "text": [
      " 80%|██████████████████████████████████▍        | 16/20 [10:50<02:43, 40.86s/it]"
     ]
    },
    {
     "name": "stdout",
     "output_type": "stream",
     "text": [
      "page_17.jpg added to json\n"
     ]
    },
    {
     "name": "stderr",
     "output_type": "stream",
     "text": [
      " 85%|████████████████████████████████████▌      | 17/20 [11:11<01:44, 34.98s/it]"
     ]
    },
    {
     "name": "stdout",
     "output_type": "stream",
     "text": [
      "page_15.jpg added to json\n"
     ]
    },
    {
     "name": "stderr",
     "output_type": "stream",
     "text": [
      " 90%|██████████████████████████████████████▋    | 18/20 [11:36<01:03, 31.86s/it]"
     ]
    },
    {
     "name": "stdout",
     "output_type": "stream",
     "text": [
      "page_14.jpg added to json\n"
     ]
    },
    {
     "name": "stderr",
     "output_type": "stream",
     "text": [
      " 95%|████████████████████████████████████████▊  | 19/20 [11:53<00:27, 27.59s/it]"
     ]
    },
    {
     "name": "stdout",
     "output_type": "stream",
     "text": [
      "page_8.jpg added to json\n"
     ]
    },
    {
     "name": "stderr",
     "output_type": "stream",
     "text": [
      "100%|███████████████████████████████████████████| 20/20 [12:12<00:00, 36.60s/it]"
     ]
    },
    {
     "name": "stdout",
     "output_type": "stream",
     "text": [
      "page_9.jpg added to json\n"
     ]
    },
    {
     "name": "stderr",
     "output_type": "stream",
     "text": [
      "\n"
     ]
    }
   ],
   "source": [
    "imageList = os.listdir(image_folder)\n",
    "\n",
    "json_output = {}\n",
    "text_output = {}\n",
    "\n",
    "for i in tqdm(range(len(imageList))):\n",
    "    image_path = Path(image_folder) / imageList[i]\n",
    "    base64_string = encode_image(image_path)\n",
    "\n",
    "    message_list = get_message_list(base64_string, prompt) \n",
    "\n",
    "    response = client.messages.create(\n",
    "        model=MODEL_NAME,\n",
    "        max_tokens=4096,\n",
    "        messages=message_list,\n",
    "        temperature = 0.0,\n",
    "        top_p = 1\n",
    "        \n",
    "    )\n",
    "\n",
    "    try:\n",
    "        out = eval(response.content[0].text)\n",
    "\n",
    "        json_output[i] = out \n",
    "        print(f\"{imageList[i]} added to json\")\n",
    "    except:\n",
    "        text_output[i] = response.content[0].text\n",
    "        print(f\"{imageList[i]} added to text\")\n",
    "    \n",
    "json_backup = json_output.copy()\n"
   ]
  },
  {
   "cell_type": "code",
   "execution_count": 53,
   "id": "a308436b-d478-48e9-b476-a8c50878f912",
   "metadata": {},
   "outputs": [
    {
     "name": "stdout",
     "output_type": "stream",
     "text": [
      "Total no of samples : 171\n",
      "Total no of samples without images: 149\n"
     ]
    },
    {
     "data": {
      "text/html": [
       "<div>\n",
       "<style scoped>\n",
       "    .dataframe tbody tr th:only-of-type {\n",
       "        vertical-align: middle;\n",
       "    }\n",
       "\n",
       "    .dataframe tbody tr th {\n",
       "        vertical-align: top;\n",
       "    }\n",
       "\n",
       "    .dataframe thead th {\n",
       "        text-align: right;\n",
       "    }\n",
       "</style>\n",
       "<table border=\"1\" class=\"dataframe\">\n",
       "  <thead>\n",
       "    <tr style=\"text-align: right;\">\n",
       "      <th></th>\n",
       "      <th>original_question_num</th>\n",
       "      <th>question</th>\n",
       "      <th>options</th>\n",
       "      <th>image</th>\n",
       "    </tr>\n",
       "  </thead>\n",
       "  <tbody>\n",
       "    <tr>\n",
       "      <th>0</th>\n",
       "      <td>10</td>\n",
       "      <td>वनस्पतीत खालीलपैकी कोणता शरीरभाग दोन पिढ्या एक...</td>\n",
       "      <td>[परागकोशातील परागकण, अंकुरित झालेल्या परागकण व...</td>\n",
       "      <td>False</td>\n",
       "    </tr>\n",
       "    <tr>\n",
       "      <th>1</th>\n",
       "      <td>11</td>\n",
       "      <td>प्लाझ्मोडिअमची मानवी शरीरात प्रवेशणारी संक्रमण...</td>\n",
       "      <td>[स्पोरोझोइट्स, मादी युग्मकेशी (मादी गॅमिटोसाइट...</td>\n",
       "      <td>False</td>\n",
       "    </tr>\n",
       "    <tr>\n",
       "      <th>2</th>\n",
       "      <td>12</td>\n",
       "      <td>अयोग्य विधान ओळखा :</td>\n",
       "      <td>[रक्तकाष्ठ पाणी व खनिजांचे वहन मूळापासून पानां...</td>\n",
       "      <td>False</td>\n",
       "    </tr>\n",
       "    <tr>\n",
       "      <th>3</th>\n",
       "      <td>13</td>\n",
       "      <td>पेंसीनचे आणि अॅल्गिननचे पिसपूर ही उदाहरणे ____...</td>\n",
       "      <td>[समकेंद्री उष्णती, ओलीगोसॅकरायडला, नैसर्गिक नि...</td>\n",
       "      <td>False</td>\n",
       "    </tr>\n",
       "    <tr>\n",
       "      <th>4</th>\n",
       "      <td>14</td>\n",
       "      <td>जीन 'I' जो ABO रक्तगट नियंत्रण करतो त्याच्याशी...</td>\n",
       "      <td>[एका व्यक्तीमध्ये तीन पैकी दोन युग्मविकल्प असत...</td>\n",
       "      <td>False</td>\n",
       "    </tr>\n",
       "  </tbody>\n",
       "</table>\n",
       "</div>"
      ],
      "text/plain": [
       "  original_question_num                                           question  \\\n",
       "0                    10  वनस्पतीत खालीलपैकी कोणता शरीरभाग दोन पिढ्या एक...   \n",
       "1                    11  प्लाझ्मोडिअमची मानवी शरीरात प्रवेशणारी संक्रमण...   \n",
       "2                    12                                अयोग्य विधान ओळखा :   \n",
       "3                    13  पेंसीनचे आणि अॅल्गिननचे पिसपूर ही उदाहरणे ____...   \n",
       "4                    14  जीन 'I' जो ABO रक्तगट नियंत्रण करतो त्याच्याशी...   \n",
       "\n",
       "                                             options  image  \n",
       "0  [परागकोशातील परागकण, अंकुरित झालेल्या परागकण व...  False  \n",
       "1  [स्पोरोझोइट्स, मादी युग्मकेशी (मादी गॅमिटोसाइट...  False  \n",
       "2  [रक्तकाष्ठ पाणी व खनिजांचे वहन मूळापासून पानां...  False  \n",
       "3  [समकेंद्री उष्णती, ओलीगोसॅकरायडला, नैसर्गिक नि...  False  \n",
       "4  [एका व्यक्तीमध्ये तीन पैकी दोन युग्मविकल्प असत...  False  "
      ]
     },
     "execution_count": 53,
     "metadata": {},
     "output_type": "execute_result"
    }
   ],
   "source": [
    "output = []\n",
    "for key in json_output.keys():\n",
    "    output += json_output[key]\n",
    "\n",
    "\n",
    "df = pd.DataFrame(output)\n",
    "df.columns = ['original_question_num','question','options','image']\n",
    "\n",
    "print(f\"Total no of samples : {len(df)}\")\n",
    "print(f\"Total no of samples without images: {len(df[df.image==False])}\")\n",
    "df.head()"
   ]
  },
  {
   "cell_type": "markdown",
   "id": "514615e2-2ec2-435f-b8a9-fb06d4a6dfea",
   "metadata": {},
   "source": [
    "#### Removing samples with images/tables"
   ]
  },
  {
   "cell_type": "code",
   "execution_count": 54,
   "id": "2c118ef0-1eda-453a-ab8a-2db286928528",
   "metadata": {},
   "outputs": [],
   "source": [
    "df = df[df.image == False]"
   ]
  },
  {
   "cell_type": "markdown",
   "id": "5066c956-a46b-44a7-973f-ba3589a5a028",
   "metadata": {},
   "source": [
    "#### Attaching Answer Key"
   ]
  },
  {
   "cell_type": "code",
   "execution_count": 55,
   "id": "faafde12-b46d-44dd-ac88-3b6df0cbaed9",
   "metadata": {},
   "outputs": [],
   "source": [
    "with open(answer_file) as f:\n",
    "    answer_key = json.load(f)"
   ]
  },
  {
   "cell_type": "code",
   "execution_count": 56,
   "id": "7b7d48a9-9895-43d5-bd0d-9740b5a7e3bc",
   "metadata": {
    "scrolled": true
   },
   "outputs": [],
   "source": [
    "df.original_question_num = df.original_question_num.apply(lambda x: x.replace(\".\",\"\")) #Cleaning\n",
    "\n",
    "df['answer'] = df.original_question_num.apply(lambda x : str(answer_key[x]))"
   ]
  },
  {
   "cell_type": "markdown",
   "id": "32a86338-be74-4a89-bb70-2821910f43ee",
   "metadata": {},
   "source": [
    "#### Assigning categories"
   ]
  },
  {
   "cell_type": "code",
   "execution_count": 57,
   "id": "db3d9a00-3d5c-4225-9499-c4e7bc622e19",
   "metadata": {},
   "outputs": [],
   "source": [
    "category_map = {'biology': 'जीवशास्त्र' ,'chemistry':'रसायनशास्त्र','physics':'भौतिकशास्त्र'}\n",
    "\n",
    "question_category_map = {}\n",
    "for i in range(1,91):\n",
    "    question_category_map[i] = 'biology'\n",
    "\n",
    "for i in range(91,136):\n",
    "    question_category_map[i] = 'physics'\n",
    "\n",
    "for i in range(136,181):\n",
    "    question_category_map[i] = 'chemistry'"
   ]
  },
  {
   "cell_type": "code",
   "execution_count": 58,
   "id": "bda39801-e316-48ee-9c68-c7178935cd59",
   "metadata": {},
   "outputs": [],
   "source": [
    "df['category_en'] = df.original_question_num.apply(lambda x : question_category_map[int(x)])\n",
    "df['category_original_lang'] = df.category_en.apply(lambda x : category_map[x])"
   ]
  },
  {
   "cell_type": "markdown",
   "id": "fd7aaff4-1f19-47fd-a52b-105870444262",
   "metadata": {},
   "source": [
    "#### Assigning other metadata"
   ]
  },
  {
   "cell_type": "code",
   "execution_count": 59,
   "id": "08b17366-5538-4ebb-b5a7-b69be1e2b891",
   "metadata": {},
   "outputs": [],
   "source": [
    "df['language'] = lang_code\n",
    "df['country'] = country\n",
    "df['file_name'] = file_name\n",
    "df['source'] = source\n",
    "df['license'] = license\n",
    "df['level'] = level\n",
    "\n",
    "\n",
    "df_ = df.copy()\n",
    "df.drop('image', axis = 1, inplace = True)\n",
    "\n",
    "cols = ['language',\n",
    "       'country', 'file_name', 'source', 'license', 'level', 'category_en',\n",
    "       'category_original_lang', 'original_question_num', 'question', 'options', 'answer']\n",
    "\n",
    "df = df[cols]"
   ]
  },
  {
   "cell_type": "code",
   "execution_count": 60,
   "id": "43db4b31-cedc-42cb-a8e2-7e72f11c4790",
   "metadata": {},
   "outputs": [
    {
     "data": {
      "text/html": [
       "<div>\n",
       "<style scoped>\n",
       "    .dataframe tbody tr th:only-of-type {\n",
       "        vertical-align: middle;\n",
       "    }\n",
       "\n",
       "    .dataframe tbody tr th {\n",
       "        vertical-align: top;\n",
       "    }\n",
       "\n",
       "    .dataframe thead th {\n",
       "        text-align: right;\n",
       "    }\n",
       "</style>\n",
       "<table border=\"1\" class=\"dataframe\">\n",
       "  <thead>\n",
       "    <tr style=\"text-align: right;\">\n",
       "      <th></th>\n",
       "      <th>language</th>\n",
       "      <th>country</th>\n",
       "      <th>file_name</th>\n",
       "      <th>source</th>\n",
       "      <th>license</th>\n",
       "      <th>level</th>\n",
       "      <th>category_en</th>\n",
       "      <th>category_original_lang</th>\n",
       "      <th>original_question_num</th>\n",
       "      <th>question</th>\n",
       "      <th>options</th>\n",
       "      <th>answer</th>\n",
       "    </tr>\n",
       "  </thead>\n",
       "  <tbody>\n",
       "    <tr>\n",
       "      <th>0</th>\n",
       "      <td>mr</td>\n",
       "      <td>India</td>\n",
       "      <td>Paper_20201106084438.pdf</td>\n",
       "      <td>https://www.nta.ac.in/Download/ExamPaper/Paper...</td>\n",
       "      <td>open</td>\n",
       "      <td>University</td>\n",
       "      <td>biology</td>\n",
       "      <td>जीवशास्त्र</td>\n",
       "      <td>10</td>\n",
       "      <td>वनस्पतीत खालीलपैकी कोणता शरीरभाग दोन पिढ्या एक...</td>\n",
       "      <td>[परागकोशातील परागकण, अंकुरित झालेल्या परागकण व...</td>\n",
       "      <td>3</td>\n",
       "    </tr>\n",
       "    <tr>\n",
       "      <th>1</th>\n",
       "      <td>mr</td>\n",
       "      <td>India</td>\n",
       "      <td>Paper_20201106084438.pdf</td>\n",
       "      <td>https://www.nta.ac.in/Download/ExamPaper/Paper...</td>\n",
       "      <td>open</td>\n",
       "      <td>University</td>\n",
       "      <td>biology</td>\n",
       "      <td>जीवशास्त्र</td>\n",
       "      <td>11</td>\n",
       "      <td>प्लाझ्मोडिअमची मानवी शरीरात प्रवेशणारी संक्रमण...</td>\n",
       "      <td>[स्पोरोझोइट्स, मादी युग्मकेशी (मादी गॅमिटोसाइट...</td>\n",
       "      <td>1</td>\n",
       "    </tr>\n",
       "    <tr>\n",
       "      <th>2</th>\n",
       "      <td>mr</td>\n",
       "      <td>India</td>\n",
       "      <td>Paper_20201106084438.pdf</td>\n",
       "      <td>https://www.nta.ac.in/Download/ExamPaper/Paper...</td>\n",
       "      <td>open</td>\n",
       "      <td>University</td>\n",
       "      <td>biology</td>\n",
       "      <td>जीवशास्त्र</td>\n",
       "      <td>12</td>\n",
       "      <td>अयोग्य विधान ओळखा :</td>\n",
       "      <td>[रक्तकाष्ठ पाणी व खनिजांचे वहन मूळापासून पानां...</td>\n",
       "      <td>2</td>\n",
       "    </tr>\n",
       "    <tr>\n",
       "      <th>3</th>\n",
       "      <td>mr</td>\n",
       "      <td>India</td>\n",
       "      <td>Paper_20201106084438.pdf</td>\n",
       "      <td>https://www.nta.ac.in/Download/ExamPaper/Paper...</td>\n",
       "      <td>open</td>\n",
       "      <td>University</td>\n",
       "      <td>biology</td>\n",
       "      <td>जीवशास्त्र</td>\n",
       "      <td>13</td>\n",
       "      <td>पेंसीनचे आणि अॅल्गिननचे पिसपूर ही उदाहरणे ____...</td>\n",
       "      <td>[समकेंद्री उष्णती, ओलीगोसॅकरायडला, नैसर्गिक नि...</td>\n",
       "      <td>1</td>\n",
       "    </tr>\n",
       "    <tr>\n",
       "      <th>4</th>\n",
       "      <td>mr</td>\n",
       "      <td>India</td>\n",
       "      <td>Paper_20201106084438.pdf</td>\n",
       "      <td>https://www.nta.ac.in/Download/ExamPaper/Paper...</td>\n",
       "      <td>open</td>\n",
       "      <td>University</td>\n",
       "      <td>biology</td>\n",
       "      <td>जीवशास्त्र</td>\n",
       "      <td>14</td>\n",
       "      <td>जीन 'I' जो ABO रक्तगट नियंत्रण करतो त्याच्याशी...</td>\n",
       "      <td>[एका व्यक्तीमध्ये तीन पैकी दोन युग्मविकल्प असत...</td>\n",
       "      <td>2</td>\n",
       "    </tr>\n",
       "  </tbody>\n",
       "</table>\n",
       "</div>"
      ],
      "text/plain": [
       "  language country                 file_name  \\\n",
       "0       mr   India  Paper_20201106084438.pdf   \n",
       "1       mr   India  Paper_20201106084438.pdf   \n",
       "2       mr   India  Paper_20201106084438.pdf   \n",
       "3       mr   India  Paper_20201106084438.pdf   \n",
       "4       mr   India  Paper_20201106084438.pdf   \n",
       "\n",
       "                                              source license       level  \\\n",
       "0  https://www.nta.ac.in/Download/ExamPaper/Paper...    open  University   \n",
       "1  https://www.nta.ac.in/Download/ExamPaper/Paper...    open  University   \n",
       "2  https://www.nta.ac.in/Download/ExamPaper/Paper...    open  University   \n",
       "3  https://www.nta.ac.in/Download/ExamPaper/Paper...    open  University   \n",
       "4  https://www.nta.ac.in/Download/ExamPaper/Paper...    open  University   \n",
       "\n",
       "  category_en category_original_lang original_question_num  \\\n",
       "0     biology             जीवशास्त्र                    10   \n",
       "1     biology             जीवशास्त्र                    11   \n",
       "2     biology             जीवशास्त्र                    12   \n",
       "3     biology             जीवशास्त्र                    13   \n",
       "4     biology             जीवशास्त्र                    14   \n",
       "\n",
       "                                            question  \\\n",
       "0  वनस्पतीत खालीलपैकी कोणता शरीरभाग दोन पिढ्या एक...   \n",
       "1  प्लाझ्मोडिअमची मानवी शरीरात प्रवेशणारी संक्रमण...   \n",
       "2                                अयोग्य विधान ओळखा :   \n",
       "3  पेंसीनचे आणि अॅल्गिननचे पिसपूर ही उदाहरणे ____...   \n",
       "4  जीन 'I' जो ABO रक्तगट नियंत्रण करतो त्याच्याशी...   \n",
       "\n",
       "                                             options answer  \n",
       "0  [परागकोशातील परागकण, अंकुरित झालेल्या परागकण व...      3  \n",
       "1  [स्पोरोझोइट्स, मादी युग्मकेशी (मादी गॅमिटोसाइट...      1  \n",
       "2  [रक्तकाष्ठ पाणी व खनिजांचे वहन मूळापासून पानां...      2  \n",
       "3  [समकेंद्री उष्णती, ओलीगोसॅकरायडला, नैसर्गिक नि...      1  \n",
       "4  [एका व्यक्तीमध्ये तीन पैकी दोन युग्मविकल्प असत...      2  "
      ]
     },
     "execution_count": 60,
     "metadata": {},
     "output_type": "execute_result"
    }
   ],
   "source": [
    "df.head()"
   ]
  },
  {
   "cell_type": "markdown",
   "id": "afed88ff-1bb6-4157-934e-e72a40538a1a",
   "metadata": {},
   "source": [
    "#### Save processed file"
   ]
  },
  {
   "cell_type": "code",
   "execution_count": 61,
   "id": "9e9353c0-f945-4070-b7c1-cb1463907b9a",
   "metadata": {},
   "outputs": [],
   "source": [
    "df.to_json(output_file_name+'.json', orient='records')\n",
    "df_.to_csv(output_file_name+'.tsv',sep='\\t')"
   ]
  },
  {
   "cell_type": "code",
   "execution_count": 48,
   "id": "d955bca7-1c09-4826-9bf9-8c2da3175d02",
   "metadata": {},
   "outputs": [
    {
     "data": {
      "text/plain": [
       "161"
      ]
     },
     "execution_count": 48,
     "metadata": {},
     "output_type": "execute_result"
    }
   ],
   "source": [
    "len(df)"
   ]
  },
  {
   "cell_type": "code",
   "execution_count": 45,
   "id": "47ae5148-fdc5-43b1-8d12-772ef6e2ff93",
   "metadata": {},
   "outputs": [],
   "source": []
  },
  {
   "cell_type": "code",
   "execution_count": null,
   "id": "b21d6a38-ae4c-490e-baf5-abdc5253d87a",
   "metadata": {},
   "outputs": [],
   "source": []
  }
 ],
 "metadata": {
  "kernelspec": {
   "display_name": "Python 3 (ipykernel)",
   "language": "python",
   "name": "python3"
  },
  "language_info": {
   "codemirror_mode": {
    "name": "ipython",
    "version": 3
   },
   "file_extension": ".py",
   "mimetype": "text/x-python",
   "name": "python",
   "nbconvert_exporter": "python",
   "pygments_lexer": "ipython3",
   "version": "3.11.8"
  }
 },
 "nbformat": 4,
 "nbformat_minor": 5
}
