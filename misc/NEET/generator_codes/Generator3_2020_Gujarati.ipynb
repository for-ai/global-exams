{
 "cells": [
  {
   "cell_type": "code",
   "execution_count": 1,
   "id": "b2729c79-56a6-41da-a49f-c1cdf92532d8",
   "metadata": {},
   "outputs": [
    {
     "data": {
      "text/plain": [
       "'/Users/roshansk/Documents/GitHub/Global_Exams'"
      ]
     },
     "execution_count": 1,
     "metadata": {},
     "output_type": "execute_result"
    }
   ],
   "source": [
    "import re\n",
    "import base64\n",
    "from openai import OpenAI\n",
    "from anthropic import Anthropic\n",
    "from pdf2image import convert_from_path\n",
    "\n",
    "from pathlib import Path\n",
    "from tqdm import tqdm\n",
    "import pandas as pd\n",
    "import json\n",
    "\n",
    "import os\n",
    "os.getcwd()"
   ]
  },
  {
   "cell_type": "code",
   "execution_count": 2,
   "id": "320b7be4-6a54-4169-8666-0a2c56359109",
   "metadata": {},
   "outputs": [],
   "source": [
    "def encode_image(image_path):\n",
    "    \"\"\"\n",
    "    Function to encode the image\n",
    "    \"\"\"\n",
    "    with open(image_path, \"rb\") as image_file:\n",
    "        return base64.b64encode(image_file.read()).decode(\"utf-8\")\n",
    "\n",
    "\n",
    "def get_message_list(base64_string, prompt):\n",
    "\n",
    "    message_list = [\n",
    "    {\n",
    "        \"role\": 'user',\n",
    "        \"content\": [\n",
    "            {\"type\": \"image\", \"source\": {\"type\": \"base64\", \"media_type\": \"image/jpeg\", \"data\": base64_string}},\n",
    "            {\"type\": \"text\", \"text\": prompt}\n",
    "        ]\n",
    "    }\n",
    "    ]\n",
    "\n",
    "    return message_list"
   ]
  },
  {
   "cell_type": "code",
   "execution_count": 3,
   "id": "46cdee87-a3de-4796-8e26-a2a1a2c343ae",
   "metadata": {},
   "outputs": [],
   "source": [
    "from anthropic import Anthropic\n",
    "\n",
    "client = Anthropic()\n",
    "\n",
    "# MODEL_NAME = \"claude-3-opus-20240229\"\n",
    "\n",
    "MODEL_NAME = \"claude-3-5-sonnet-20240620\"\n",
    "\n",
    "\n"
   ]
  },
  {
   "cell_type": "code",
   "execution_count": 46,
   "id": "438dd01b-1448-4bb0-94e6-ed1a3f73b9d8",
   "metadata": {},
   "outputs": [],
   "source": [
    "language = 'hindi'\n",
    "\n",
    "pdf_file = '/Users/roshansk/Documents/GitHub/Global_Exams/data/2020/NEET_2020_Gujarati_F6.pdf'\n",
    "answer_file = '/Users/roshansk/Documents/GitHub/Global_Exams/data/2020/NEET_2020_F6_Answer_Key.json'\n",
    "image_folder = '/Users/roshansk/Documents/GitHub/Global_Exams/images/NEET_2020_Gujarati_F6'\n",
    "\n",
    "\n",
    "lang_code = 'gu'\n",
    "country = 'India'\n",
    "file_name = 'Paper_20201106083723.pdf'\n",
    "source = 'https://www.nta.ac.in/Download/ExamPaper/Paper_20201106083723.pdf'\n",
    "license = 'open'\n",
    "level = 'University'\n",
    "\n",
    "output_file_name = 'NEET_2020_Gujarati_processed'\n",
    "\n",
    "pages_to_include=[26,45]"
   ]
  },
  {
   "cell_type": "code",
   "execution_count": 11,
   "id": "88ec45bd-1972-4d96-bb5d-a67b3db11981",
   "metadata": {},
   "outputs": [],
   "source": [
    "# prompt = \"\"\"Extract the multiple choice questions along with the options present in the image. The text is mostly in the language of {lang}.\n",
    "# Return the extracted the questions as a list of json values, with each json value corresponding to a single question. \n",
    "# The json value should have the following keys : \n",
    "# - number : The number of the question\n",
    "# - question : The actual text of the question\n",
    "# - options : A list containing all 4 options for the question\n",
    "# - image : output True if there is an image associated with the either the question or answer and the student is supposed to use an image to answer the question. Output False, otherwise. Ensure that True and False have their first letters capitalized.\n",
    "\n",
    "# Output the list alone and no other supporting text in your response. Ensure that the output can be converted into a python directly using eval(response.text)\n",
    "# The questions are present in 2 columns. Make sure to extract questions from both columns and not just one\n",
    "\n",
    "# \"\"\"\n",
    "\n",
    "# prompt_hindi = \"\"\"You are given a pdf containing Hindi and English questions. Extract the Hindi multiple choice questions along with the options present in the image.\n",
    "# Return the extracted the questions as a list of json values, with each json value corresponding to a single question. \n",
    "# The json value should have the following keys : \n",
    "# - number : The number of the question\n",
    "# - question : The actual text of the question\n",
    "# - options : A list containing all 4 options for the question\n",
    "# - image : output True if there is an image associated with the either the question or answer and the student is supposed to use an image to answer the question. Output False, otherwise. Ensure that True and False have their first letters capitalized.\n",
    "\n",
    "# Output the list alone and no other supporting text in your response. Ensure that the output can be converted into a python directly using eval(response.text)\n",
    "# The questions are present in two columns with Hindi questions on the left column and English questions on the right column. Extract only the Hindi questions from the left column.\n",
    "# \"\"\"\n",
    "\n",
    "\n",
    "# prompt = \"\"\"You are given a pdf containing Gujarati and English questions. Extract the Gujarati multiple choice questions along with the options present in the image.\n",
    "# Return the extracted the questions as a list of json values, with each json value corresponding to a single question. \n",
    "# The json value should have the following keys : \n",
    "# - number : The number of the question\n",
    "# - question : The actual text of the question\n",
    "# - options : A list containing all 4 options for the question\n",
    "# - image : output True if there is an image associated with the either the question or answer and the student is supposed to use an image to answer the question. Output False, otherwise. Ensure that True and False have their first letters capitalized.\n",
    "\n",
    "# Output the list alone and no other supporting text in your response. Ensure that the output can be converted into a python dict directly using eval(response.text)\n",
    "# The questions are present in two columns with Gujarati questions on the right side and English questions on the left. Extract only the Gujarati questions from the right column.\n",
    "# \"\"\"\n",
    "\n",
    "prompt = \"\"\"Extract the multiple choice questions along with the options present in the image. The text is mostly in the language of Gujarati.\n",
    "Return the extracted the questions as a list of json values, with each json value corresponding to a single question. \n",
    "The json value should have the following keys : \n",
    "- number : The number of the question\n",
    "- question : The actual text of the question\n",
    "- options : A list containing all 4 options for the question\n",
    "- image : output True if there is an image or table associated with the either the question or answer and the student is supposed to use an image/table to answer the question. Output False, otherwise. Ensure that True and False have their first letters capitalized.\n",
    "\n",
    "Output the list alone and no other supporting text in your response. Ensure that the output can be converted into a python dict directly using eval(response.text)\n",
    "The questions are present in 2 columns. Make sure to extract questions from both columns and not just one\n",
    "\n",
    "\"\"\""
   ]
  },
  {
   "cell_type": "markdown",
   "id": "0333fbaf-b80a-48e3-9826-35ee6fb1b9c7",
   "metadata": {},
   "source": [
    "## Creating Image Files"
   ]
  },
  {
   "cell_type": "code",
   "execution_count": 5,
   "id": "9a59c2b0-0b87-4e37-8ec5-3b89f9e3ae44",
   "metadata": {},
   "outputs": [],
   "source": [
    "if not os.path.exists(image_folder):\n",
    "    os.makedirs(image_folder)\n",
    "\n",
    "pages = convert_from_path(pdf_file)\n",
    "\n",
    "start_page, end_page = pages_to_include \n",
    "count = 0\n",
    "for i in range(start_page-1,  end_page):\n",
    "    filename = \"page_\"+str(i)+'.jpg'\n",
    "    pages[i].save(Path(image_folder) / filename)\n",
    "    count += 1\n",
    "    "
   ]
  },
  {
   "cell_type": "code",
   "execution_count": 9,
   "id": "7c323568-4ab7-4f89-968a-fdb3f1a599ae",
   "metadata": {},
   "outputs": [],
   "source": [
    "print(f\"{count} images created\")"
   ]
  },
  {
   "cell_type": "markdown",
   "id": "dcbe3632-fee8-473c-a206-c417f638484b",
   "metadata": {},
   "source": [
    "## Extracting questions from Claude"
   ]
  },
  {
   "cell_type": "code",
   "execution_count": 12,
   "id": "1b4d55cc-c997-4614-8405-9b48154f8c80",
   "metadata": {
    "scrolled": true
   },
   "outputs": [
    {
     "name": "stderr",
     "output_type": "stream",
     "text": [
      "  5%|██▏                                         | 1/20 [00:29<09:23, 29.63s/it]"
     ]
    },
    {
     "name": "stdout",
     "output_type": "stream",
     "text": [
      "page_44.jpg added to json\n"
     ]
    },
    {
     "name": "stderr",
     "output_type": "stream",
     "text": [
      " 10%|████▍                                       | 2/20 [00:55<08:15, 27.52s/it]"
     ]
    },
    {
     "name": "stdout",
     "output_type": "stream",
     "text": [
      "page_40.jpg added to json\n"
     ]
    },
    {
     "name": "stderr",
     "output_type": "stream",
     "text": [
      " 15%|██████▌                                     | 3/20 [01:16<06:53, 24.32s/it]"
     ]
    },
    {
     "name": "stdout",
     "output_type": "stream",
     "text": [
      "page_41.jpg added to json\n"
     ]
    },
    {
     "name": "stderr",
     "output_type": "stream",
     "text": [
      " 20%|████████▊                                   | 4/20 [01:41<06:36, 24.77s/it]"
     ]
    },
    {
     "name": "stdout",
     "output_type": "stream",
     "text": [
      "page_43.jpg added to json\n"
     ]
    },
    {
     "name": "stderr",
     "output_type": "stream",
     "text": [
      " 25%|███████████                                 | 5/20 [02:12<06:45, 27.06s/it]"
     ]
    },
    {
     "name": "stdout",
     "output_type": "stream",
     "text": [
      "page_42.jpg added to json\n"
     ]
    },
    {
     "name": "stderr",
     "output_type": "stream",
     "text": [
      " 30%|█████████████▏                              | 6/20 [02:43<06:37, 28.39s/it]"
     ]
    },
    {
     "name": "stdout",
     "output_type": "stream",
     "text": [
      "page_31.jpg added to json\n"
     ]
    },
    {
     "name": "stderr",
     "output_type": "stream",
     "text": [
      " 35%|███████████████▍                            | 7/20 [03:01<05:23, 24.88s/it]"
     ]
    },
    {
     "name": "stdout",
     "output_type": "stream",
     "text": [
      "page_25.jpg added to json\n"
     ]
    },
    {
     "name": "stderr",
     "output_type": "stream",
     "text": [
      " 40%|█████████████████▌                          | 8/20 [03:31<05:18, 26.56s/it]"
     ]
    },
    {
     "name": "stdout",
     "output_type": "stream",
     "text": [
      "page_30.jpg added to json\n"
     ]
    },
    {
     "name": "stderr",
     "output_type": "stream",
     "text": [
      " 45%|███████████████████▊                        | 9/20 [03:51<04:28, 24.39s/it]"
     ]
    },
    {
     "name": "stdout",
     "output_type": "stream",
     "text": [
      "page_26.jpg added to json\n"
     ]
    },
    {
     "name": "stderr",
     "output_type": "stream",
     "text": [
      " 50%|█████████████████████▌                     | 10/20 [04:22<04:25, 26.50s/it]"
     ]
    },
    {
     "name": "stdout",
     "output_type": "stream",
     "text": [
      "page_32.jpg added to json\n"
     ]
    },
    {
     "name": "stderr",
     "output_type": "stream",
     "text": [
      " 55%|███████████████████████▋                   | 11/20 [04:45<03:48, 25.36s/it]"
     ]
    },
    {
     "name": "stdout",
     "output_type": "stream",
     "text": [
      "page_33.jpg added to json\n"
     ]
    },
    {
     "name": "stderr",
     "output_type": "stream",
     "text": [
      " 60%|█████████████████████████▊                 | 12/20 [05:18<03:43, 27.93s/it]"
     ]
    },
    {
     "name": "stdout",
     "output_type": "stream",
     "text": [
      "page_27.jpg added to json\n"
     ]
    },
    {
     "name": "stderr",
     "output_type": "stream",
     "text": [
      " 65%|███████████████████████████▉               | 13/20 [05:39<03:00, 25.75s/it]"
     ]
    },
    {
     "name": "stdout",
     "output_type": "stream",
     "text": [
      "page_37.jpg added to json\n"
     ]
    },
    {
     "name": "stderr",
     "output_type": "stream",
     "text": [
      " 70%|██████████████████████████████             | 14/20 [06:13<02:49, 28.32s/it]"
     ]
    },
    {
     "name": "stdout",
     "output_type": "stream",
     "text": [
      "page_36.jpg added to json\n"
     ]
    },
    {
     "name": "stderr",
     "output_type": "stream",
     "text": [
      " 75%|████████████████████████████████▎          | 15/20 [06:41<02:20, 28.01s/it]"
     ]
    },
    {
     "name": "stdout",
     "output_type": "stream",
     "text": [
      "page_34.jpg added to json\n"
     ]
    },
    {
     "name": "stderr",
     "output_type": "stream",
     "text": [
      " 80%|██████████████████████████████████▍        | 16/20 [07:13<01:57, 29.31s/it]"
     ]
    },
    {
     "name": "stdout",
     "output_type": "stream",
     "text": [
      "page_35.jpg added to json\n"
     ]
    },
    {
     "name": "stderr",
     "output_type": "stream",
     "text": [
      " 85%|████████████████████████████████████▌      | 17/20 [07:42<01:27, 29.25s/it]"
     ]
    },
    {
     "name": "stdout",
     "output_type": "stream",
     "text": [
      "page_38.jpg added to json\n"
     ]
    },
    {
     "name": "stderr",
     "output_type": "stream",
     "text": [
      " 90%|██████████████████████████████████████▋    | 18/20 [08:10<00:57, 28.73s/it]"
     ]
    },
    {
     "name": "stdout",
     "output_type": "stream",
     "text": [
      "page_39.jpg added to json\n"
     ]
    },
    {
     "name": "stderr",
     "output_type": "stream",
     "text": [
      " 95%|████████████████████████████████████████▊  | 19/20 [08:40<00:29, 29.05s/it]"
     ]
    },
    {
     "name": "stdout",
     "output_type": "stream",
     "text": [
      "page_29.jpg added to json\n"
     ]
    },
    {
     "name": "stderr",
     "output_type": "stream",
     "text": [
      "100%|███████████████████████████████████████████| 20/20 [08:57<00:00, 26.90s/it]"
     ]
    },
    {
     "name": "stdout",
     "output_type": "stream",
     "text": [
      "page_28.jpg added to json\n"
     ]
    },
    {
     "name": "stderr",
     "output_type": "stream",
     "text": [
      "\n"
     ]
    }
   ],
   "source": [
    "imageList = os.listdir(image_folder)\n",
    "\n",
    "json_output = {}\n",
    "text_output = {}\n",
    "\n",
    "for i in tqdm(range(len(imageList))):\n",
    "    image_path = Path(image_folder) / imageList[i]\n",
    "    base64_string = encode_image(image_path)\n",
    "\n",
    "    message_list = get_message_list(base64_string, prompt) \n",
    "\n",
    "    response = client.messages.create(\n",
    "        model=MODEL_NAME,\n",
    "        max_tokens=4096,\n",
    "        messages=message_list,\n",
    "        temperature = 0.0,\n",
    "        top_p = 1\n",
    "        \n",
    "    )\n",
    "\n",
    "    try:\n",
    "        out = eval(response.content[0].text)\n",
    "\n",
    "        json_output[i] = out \n",
    "        print(f\"{imageList[i]} added to json\")\n",
    "    except:\n",
    "        text_output[i] = response.content[0].text\n",
    "        print(f\"{imageList[i]} added to text\")\n",
    "    \n",
    "json_backup = json_output.copy()\n"
   ]
  },
  {
   "cell_type": "code",
   "execution_count": 38,
   "id": "a308436b-d478-48e9-b476-a8c50878f912",
   "metadata": {},
   "outputs": [
    {
     "name": "stdout",
     "output_type": "stream",
     "text": [
      "Total no of samples : 180\n",
      "Total no of samples without images: 161\n"
     ]
    },
    {
     "data": {
      "text/html": [
       "<div>\n",
       "<style scoped>\n",
       "    .dataframe tbody tr th:only-of-type {\n",
       "        vertical-align: middle;\n",
       "    }\n",
       "\n",
       "    .dataframe tbody tr th {\n",
       "        vertical-align: top;\n",
       "    }\n",
       "\n",
       "    .dataframe thead th {\n",
       "        text-align: right;\n",
       "    }\n",
       "</style>\n",
       "<table border=\"1\" class=\"dataframe\">\n",
       "  <thead>\n",
       "    <tr style=\"text-align: right;\">\n",
       "      <th></th>\n",
       "      <th>original_question_num</th>\n",
       "      <th>question</th>\n",
       "      <th>options</th>\n",
       "      <th>image</th>\n",
       "    </tr>\n",
       "  </thead>\n",
       "  <tbody>\n",
       "    <tr>\n",
       "      <th>0</th>\n",
       "      <td>170</td>\n",
       "      <td>એક અવરોધક માટે વર્ણ-સંકેત નીચે આપેલ છે :</td>\n",
       "      <td>[4.7 kΩ, 5%, 470 Ω, 5%, 470 kΩ, 5%, 47 kΩ, 10%]</td>\n",
       "      <td>True</td>\n",
       "    </tr>\n",
       "    <tr>\n",
       "      <th>1</th>\n",
       "      <td>171</td>\n",
       "      <td>r-ત્રિજ્યા ધરાવતી એક કેશનળી ટ્યુબ (કેપિલરી) ને...</td>\n",
       "      <td>[10.0 g, 20.0 g, 2.5 g, 5.0 g]</td>\n",
       "      <td>False</td>\n",
       "    </tr>\n",
       "    <tr>\n",
       "      <th>2</th>\n",
       "      <td>172</td>\n",
       "      <td>એક વાયુકોષમાં 249 kPa દબાણે અને 27°C તાપમાને હ...</td>\n",
       "      <td>[0.1 kg/m³, 0.02 kg/m³, 0.5 kg/m³, 0.2 kg/m³]</td>\n",
       "      <td>False</td>\n",
       "    </tr>\n",
       "    <tr>\n",
       "      <th>3</th>\n",
       "      <td>173</td>\n",
       "      <td>અવરોધના ગુણ તાપમાન ગુણાંક ધરાવતા હોય તેવા 'ધન ...</td>\n",
       "      <td>[ફક્ત અર્ધવાહકો, અવાહકો અને અર્ધવાહકો, ધાતુઓ, ...</td>\n",
       "      <td>False</td>\n",
       "    </tr>\n",
       "    <tr>\n",
       "      <th>4</th>\n",
       "      <td>174</td>\n",
       "      <td>એક એકપરમાણવીય વાયુની સરેરાશ ઉષ્મા ઊર્જા છે ___...</td>\n",
       "      <td>[5/2 kBT, 7/2 kBT, 1/2 kBT, 3/2 kBT]</td>\n",
       "      <td>False</td>\n",
       "    </tr>\n",
       "  </tbody>\n",
       "</table>\n",
       "</div>"
      ],
      "text/plain": [
       "  original_question_num                                           question  \\\n",
       "0                   170           એક અવરોધક માટે વર્ણ-સંકેત નીચે આપેલ છે :   \n",
       "1                   171  r-ત્રિજ્યા ધરાવતી એક કેશનળી ટ્યુબ (કેપિલરી) ને...   \n",
       "2                   172  એક વાયુકોષમાં 249 kPa દબાણે અને 27°C તાપમાને હ...   \n",
       "3                   173  અવરોધના ગુણ તાપમાન ગુણાંક ધરાવતા હોય તેવા 'ધન ...   \n",
       "4                   174  એક એકપરમાણવીય વાયુની સરેરાશ ઉષ્મા ઊર્જા છે ___...   \n",
       "\n",
       "                                             options  image  \n",
       "0    [4.7 kΩ, 5%, 470 Ω, 5%, 470 kΩ, 5%, 47 kΩ, 10%]   True  \n",
       "1                     [10.0 g, 20.0 g, 2.5 g, 5.0 g]  False  \n",
       "2      [0.1 kg/m³, 0.02 kg/m³, 0.5 kg/m³, 0.2 kg/m³]  False  \n",
       "3  [ફક્ત અર્ધવાહકો, અવાહકો અને અર્ધવાહકો, ધાતુઓ, ...  False  \n",
       "4               [5/2 kBT, 7/2 kBT, 1/2 kBT, 3/2 kBT]  False  "
      ]
     },
     "execution_count": 38,
     "metadata": {},
     "output_type": "execute_result"
    }
   ],
   "source": [
    "output = []\n",
    "for key in json_output.keys():\n",
    "    output += json_output[key]\n",
    "\n",
    "\n",
    "df = pd.DataFrame(output)\n",
    "df.columns = ['original_question_num','question','options','image']\n",
    "\n",
    "print(f\"Total no of samples : {len(df)}\")\n",
    "print(f\"Total no of samples without images: {len(df[df.image==False])}\")\n",
    "df.head()"
   ]
  },
  {
   "cell_type": "markdown",
   "id": "514615e2-2ec2-435f-b8a9-fb06d4a6dfea",
   "metadata": {},
   "source": [
    "#### Removing samples with images/tables"
   ]
  },
  {
   "cell_type": "code",
   "execution_count": 39,
   "id": "2c118ef0-1eda-453a-ab8a-2db286928528",
   "metadata": {},
   "outputs": [],
   "source": [
    "df = df[df.image == False]"
   ]
  },
  {
   "cell_type": "markdown",
   "id": "5066c956-a46b-44a7-973f-ba3589a5a028",
   "metadata": {},
   "source": [
    "#### Attaching Answer Key"
   ]
  },
  {
   "cell_type": "code",
   "execution_count": 40,
   "id": "faafde12-b46d-44dd-ac88-3b6df0cbaed9",
   "metadata": {},
   "outputs": [],
   "source": [
    "with open(answer_file) as f:\n",
    "    answer_key = json.load(f)"
   ]
  },
  {
   "cell_type": "code",
   "execution_count": 41,
   "id": "7b7d48a9-9895-43d5-bd0d-9740b5a7e3bc",
   "metadata": {
    "scrolled": true
   },
   "outputs": [],
   "source": [
    "df.original_question_num = df.original_question_num.apply(lambda x: x.replace(\".\",\"\")) #Cleaning\n",
    "\n",
    "df['answer'] = df.original_question_num.apply(lambda x : str(answer_key[x]))"
   ]
  },
  {
   "cell_type": "markdown",
   "id": "32a86338-be74-4a89-bb70-2821910f43ee",
   "metadata": {},
   "source": [
    "#### Assigning categories"
   ]
  },
  {
   "cell_type": "code",
   "execution_count": 42,
   "id": "db3d9a00-3d5c-4225-9499-c4e7bc622e19",
   "metadata": {},
   "outputs": [],
   "source": [
    "category_map = {'biology': 'जीवविज्ञान' ,'chemistry':'रसायन विज्ञान','physics':'भौतिक विज्ञान'}\n",
    "\n",
    "question_category_map = {}\n",
    "for i in range(1,46):\n",
    "    question_category_map[i] = 'physics'\n",
    "\n",
    "for i in range(46,91):\n",
    "    question_category_map[i] = 'chemistry'\n",
    "\n",
    "for i in range(91,181):\n",
    "    question_category_map[i] = 'biology'"
   ]
  },
  {
   "cell_type": "code",
   "execution_count": 43,
   "id": "bda39801-e316-48ee-9c68-c7178935cd59",
   "metadata": {},
   "outputs": [],
   "source": [
    "df['category_en'] = df.original_question_num.apply(lambda x : question_category_map[int(x)])\n",
    "df['category_original_lang'] = df.category_en.apply(lambda x : category_map[x])"
   ]
  },
  {
   "cell_type": "markdown",
   "id": "fd7aaff4-1f19-47fd-a52b-105870444262",
   "metadata": {},
   "source": [
    "#### Assigning other metadata"
   ]
  },
  {
   "cell_type": "code",
   "execution_count": 44,
   "id": "08b17366-5538-4ebb-b5a7-b69be1e2b891",
   "metadata": {},
   "outputs": [],
   "source": [
    "df['language'] = lang_code\n",
    "df['country'] = country\n",
    "df['file_name'] = file_name\n",
    "df['source'] = source\n",
    "df['license'] = license\n",
    "df['level'] = level\n",
    "\n",
    "\n",
    "df_ = df.copy()\n",
    "df.drop('image', axis = 1, inplace = True)\n",
    "\n",
    "cols = ['language',\n",
    "       'country', 'file_name', 'source', 'license', 'level', 'category_en',\n",
    "       'category_original_lang', 'original_question_num', 'question', 'options', 'answer']\n",
    "\n",
    "df = df[cols]"
   ]
  },
  {
   "cell_type": "code",
   "execution_count": 45,
   "id": "43db4b31-cedc-42cb-a8e2-7e72f11c4790",
   "metadata": {},
   "outputs": [
    {
     "data": {
      "text/html": [
       "<div>\n",
       "<style scoped>\n",
       "    .dataframe tbody tr th:only-of-type {\n",
       "        vertical-align: middle;\n",
       "    }\n",
       "\n",
       "    .dataframe tbody tr th {\n",
       "        vertical-align: top;\n",
       "    }\n",
       "\n",
       "    .dataframe thead th {\n",
       "        text-align: right;\n",
       "    }\n",
       "</style>\n",
       "<table border=\"1\" class=\"dataframe\">\n",
       "  <thead>\n",
       "    <tr style=\"text-align: right;\">\n",
       "      <th></th>\n",
       "      <th>language</th>\n",
       "      <th>country</th>\n",
       "      <th>file_name</th>\n",
       "      <th>source</th>\n",
       "      <th>license</th>\n",
       "      <th>level</th>\n",
       "      <th>category_en</th>\n",
       "      <th>category_original_lang</th>\n",
       "      <th>original_question_num</th>\n",
       "      <th>question</th>\n",
       "      <th>options</th>\n",
       "      <th>answer</th>\n",
       "    </tr>\n",
       "  </thead>\n",
       "  <tbody>\n",
       "    <tr>\n",
       "      <th>1</th>\n",
       "      <td>gu</td>\n",
       "      <td>India</td>\n",
       "      <td>Paper_20201106083723.pdf</td>\n",
       "      <td>https://www.nta.ac.in/Download/ExamPaper/Paper...</td>\n",
       "      <td>open</td>\n",
       "      <td>University</td>\n",
       "      <td>biology</td>\n",
       "      <td>जीवविज्ञान</td>\n",
       "      <td>171</td>\n",
       "      <td>r-ત્રિજ્યા ધરાવતી એક કેશનળી ટ્યુબ (કેપિલરી) ને...</td>\n",
       "      <td>[10.0 g, 20.0 g, 2.5 g, 5.0 g]</td>\n",
       "      <td>1</td>\n",
       "    </tr>\n",
       "    <tr>\n",
       "      <th>2</th>\n",
       "      <td>gu</td>\n",
       "      <td>India</td>\n",
       "      <td>Paper_20201106083723.pdf</td>\n",
       "      <td>https://www.nta.ac.in/Download/ExamPaper/Paper...</td>\n",
       "      <td>open</td>\n",
       "      <td>University</td>\n",
       "      <td>biology</td>\n",
       "      <td>जीवविज्ञान</td>\n",
       "      <td>172</td>\n",
       "      <td>એક વાયુકોષમાં 249 kPa દબાણે અને 27°C તાપમાને હ...</td>\n",
       "      <td>[0.1 kg/m³, 0.02 kg/m³, 0.5 kg/m³, 0.2 kg/m³]</td>\n",
       "      <td>4</td>\n",
       "    </tr>\n",
       "    <tr>\n",
       "      <th>3</th>\n",
       "      <td>gu</td>\n",
       "      <td>India</td>\n",
       "      <td>Paper_20201106083723.pdf</td>\n",
       "      <td>https://www.nta.ac.in/Download/ExamPaper/Paper...</td>\n",
       "      <td>open</td>\n",
       "      <td>University</td>\n",
       "      <td>biology</td>\n",
       "      <td>जीवविज्ञान</td>\n",
       "      <td>173</td>\n",
       "      <td>અવરોધના ગુણ તાપમાન ગુણાંક ધરાવતા હોય તેવા 'ધન ...</td>\n",
       "      <td>[ફક્ત અર્ધવાહકો, અવાહકો અને અર્ધવાહકો, ધાતુઓ, ...</td>\n",
       "      <td>2</td>\n",
       "    </tr>\n",
       "    <tr>\n",
       "      <th>4</th>\n",
       "      <td>gu</td>\n",
       "      <td>India</td>\n",
       "      <td>Paper_20201106083723.pdf</td>\n",
       "      <td>https://www.nta.ac.in/Download/ExamPaper/Paper...</td>\n",
       "      <td>open</td>\n",
       "      <td>University</td>\n",
       "      <td>biology</td>\n",
       "      <td>जीवविज्ञान</td>\n",
       "      <td>174</td>\n",
       "      <td>એક એકપરમાણવીય વાયુની સરેરાશ ઉષ્મા ઊર્જા છે ___...</td>\n",
       "      <td>[5/2 kBT, 7/2 kBT, 1/2 kBT, 3/2 kBT]</td>\n",
       "      <td>4</td>\n",
       "    </tr>\n",
       "    <tr>\n",
       "      <th>5</th>\n",
       "      <td>gu</td>\n",
       "      <td>India</td>\n",
       "      <td>Paper_20201106083723.pdf</td>\n",
       "      <td>https://www.nta.ac.in/Download/ExamPaper/Paper...</td>\n",
       "      <td>open</td>\n",
       "      <td>University</td>\n",
       "      <td>biology</td>\n",
       "      <td>जीवविज्ञान</td>\n",
       "      <td>175</td>\n",
       "      <td>20 cm² ક્ષેત્રફળ ધરાવતી એક અખરાવતિત સપાટી પર 2...</td>\n",
       "      <td>[24×10³ J, 48×10³ J, 10×10³ J, 12×10³ J]</td>\n",
       "      <td>1</td>\n",
       "    </tr>\n",
       "  </tbody>\n",
       "</table>\n",
       "</div>"
      ],
      "text/plain": [
       "  language country                 file_name  \\\n",
       "1       gu   India  Paper_20201106083723.pdf   \n",
       "2       gu   India  Paper_20201106083723.pdf   \n",
       "3       gu   India  Paper_20201106083723.pdf   \n",
       "4       gu   India  Paper_20201106083723.pdf   \n",
       "5       gu   India  Paper_20201106083723.pdf   \n",
       "\n",
       "                                              source license       level  \\\n",
       "1  https://www.nta.ac.in/Download/ExamPaper/Paper...    open  University   \n",
       "2  https://www.nta.ac.in/Download/ExamPaper/Paper...    open  University   \n",
       "3  https://www.nta.ac.in/Download/ExamPaper/Paper...    open  University   \n",
       "4  https://www.nta.ac.in/Download/ExamPaper/Paper...    open  University   \n",
       "5  https://www.nta.ac.in/Download/ExamPaper/Paper...    open  University   \n",
       "\n",
       "  category_en category_original_lang original_question_num  \\\n",
       "1     biology             जीवविज्ञान                   171   \n",
       "2     biology             जीवविज्ञान                   172   \n",
       "3     biology             जीवविज्ञान                   173   \n",
       "4     biology             जीवविज्ञान                   174   \n",
       "5     biology             जीवविज्ञान                   175   \n",
       "\n",
       "                                            question  \\\n",
       "1  r-ત્રિજ્યા ધરાવતી એક કેશનળી ટ્યુબ (કેપિલરી) ને...   \n",
       "2  એક વાયુકોષમાં 249 kPa દબાણે અને 27°C તાપમાને હ...   \n",
       "3  અવરોધના ગુણ તાપમાન ગુણાંક ધરાવતા હોય તેવા 'ધન ...   \n",
       "4  એક એકપરમાણવીય વાયુની સરેરાશ ઉષ્મા ઊર્જા છે ___...   \n",
       "5  20 cm² ક્ષેત્રફળ ધરાવતી એક અખરાવતિત સપાટી પર 2...   \n",
       "\n",
       "                                             options answer  \n",
       "1                     [10.0 g, 20.0 g, 2.5 g, 5.0 g]      1  \n",
       "2      [0.1 kg/m³, 0.02 kg/m³, 0.5 kg/m³, 0.2 kg/m³]      4  \n",
       "3  [ફક્ત અર્ધવાહકો, અવાહકો અને અર્ધવાહકો, ધાતુઓ, ...      2  \n",
       "4               [5/2 kBT, 7/2 kBT, 1/2 kBT, 3/2 kBT]      4  \n",
       "5           [24×10³ J, 48×10³ J, 10×10³ J, 12×10³ J]      1  "
      ]
     },
     "execution_count": 45,
     "metadata": {},
     "output_type": "execute_result"
    }
   ],
   "source": [
    "df.head()"
   ]
  },
  {
   "cell_type": "markdown",
   "id": "afed88ff-1bb6-4157-934e-e72a40538a1a",
   "metadata": {},
   "source": [
    "#### Save processed file"
   ]
  },
  {
   "cell_type": "code",
   "execution_count": 47,
   "id": "9e9353c0-f945-4070-b7c1-cb1463907b9a",
   "metadata": {},
   "outputs": [],
   "source": [
    "df.to_json(output_file_name+'.json', orient='records')\n",
    "df_.to_csv(output_file_name+'.tsv',sep='\\t')"
   ]
  },
  {
   "cell_type": "code",
   "execution_count": 48,
   "id": "d955bca7-1c09-4826-9bf9-8c2da3175d02",
   "metadata": {},
   "outputs": [
    {
     "data": {
      "text/plain": [
       "161"
      ]
     },
     "execution_count": 48,
     "metadata": {},
     "output_type": "execute_result"
    }
   ],
   "source": [
    "len(df)"
   ]
  },
  {
   "cell_type": "code",
   "execution_count": 45,
   "id": "47ae5148-fdc5-43b1-8d12-772ef6e2ff93",
   "metadata": {},
   "outputs": [],
   "source": []
  },
  {
   "cell_type": "code",
   "execution_count": null,
   "id": "b21d6a38-ae4c-490e-baf5-abdc5253d87a",
   "metadata": {},
   "outputs": [],
   "source": []
  }
 ],
 "metadata": {
  "kernelspec": {
   "display_name": "Python 3 (ipykernel)",
   "language": "python",
   "name": "python3"
  },
  "language_info": {
   "codemirror_mode": {
    "name": "ipython",
    "version": 3
   },
   "file_extension": ".py",
   "mimetype": "text/x-python",
   "name": "python",
   "nbconvert_exporter": "python",
   "pygments_lexer": "ipython3",
   "version": "3.11.8"
  }
 },
 "nbformat": 4,
 "nbformat_minor": 5
}
